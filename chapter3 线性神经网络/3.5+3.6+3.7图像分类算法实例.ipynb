{
 "cells": [
  {
   "cell_type": "code",
   "execution_count": 2,
   "metadata": {},
   "outputs": [],
   "source": [
    "%matplotlib inline\n",
    "import torch\n",
    "import torchvision\n",
    "from torch.utils import data\n",
    "from torchvision import transforms\n",
    "import matplotlib.pyplot as plt"
   ]
  },
  {
   "cell_type": "markdown",
   "metadata": {},
   "source": [
    "### 读取数据集\n",
    "1. 通过内嵌函数读取数据集\n",
    "2. 观察数据集 有10个类别组成的图像，每个类别有6000张和1000张图组成训练集和测试集，测试集用来评估性能\n",
    "3. 将数据处理成能够输入模型的数据，每个图像28*28，由灰度图组成，channel为1\n",
    "4. 将文本标签转化成数字标签"
   ]
  },
  {
   "cell_type": "code",
   "execution_count": 5,
   "metadata": {},
   "outputs": [],
   "source": [
    "# 通过ToTensor实例将图像数据从PIL类型变换成32位浮点数格式，\n",
    "# 并除以255使得所有像素的数值均在0〜1之间\n",
    "trans = transforms.ToTensor()\n",
    "mnist_train = torchvision.datasets.FashionMNIST(\n",
    "root=\"../data\", train=True, transform=trans, download=True)\n",
    "mnist_test = torchvision.datasets.FashionMNIST(\n",
    "root=\"../data\", train=False, transform=trans, download=True)"
   ]
  },
  {
   "cell_type": "code",
   "execution_count": 6,
   "metadata": {},
   "outputs": [
    {
     "name": "stdout",
     "output_type": "stream",
     "text": [
      "60000\n",
      "10000\n"
     ]
    }
   ],
   "source": [
    "print(len(mnist_train))\n",
    "print(len(mnist_test))"
   ]
  },
  {
   "cell_type": "code",
   "execution_count": 14,
   "metadata": {},
   "outputs": [
    {
     "data": {
      "text/plain": [
       "torch.Size([1, 28, 28])"
      ]
     },
     "execution_count": 14,
     "metadata": {},
     "output_type": "execute_result"
    }
   ],
   "source": [
    "mnist_train[0][0].shape"
   ]
  },
  {
   "cell_type": "code",
   "execution_count": 15,
   "metadata": {},
   "outputs": [],
   "source": [
    "def get_labels(labels):\n",
    "    text_labels = ['t-shirt', 'trouser', 'pullover', 'dress', 'coat','sandal', 'shirt', 'sneaker', 'bag', 'ankle boot']\n",
    "    return [text_labels[int(i)] for i in labels]"
   ]
  },
  {
   "cell_type": "code",
   "execution_count": 16,
   "metadata": {},
   "outputs": [
    {
     "name": "stdout",
     "output_type": "stream",
     "text": [
      "<function get_labels at 0x000001BDCAD8F378>\n"
     ]
    }
   ],
   "source": [
    "print(get_labels)"
   ]
  },
  {
   "cell_type": "markdown",
   "metadata": {},
   "source": [
    "### 读取小批量"
   ]
  },
  {
   "cell_type": "code",
   "execution_count": 143,
   "metadata": {},
   "outputs": [],
   "source": [
    "batch_size=100\n",
    "def get_dataloader_workers():\n",
    "    '''使用4个进程读取数据'''\n",
    "    return 4\n",
    "train_iter = data.DataLoader(mnist_train,batch_size,shuffle=True,num_workers=4)\n",
    "    "
   ]
  },
  {
   "cell_type": "code",
   "execution_count": 13,
   "metadata": {},
   "outputs": [],
   "source": [
    "# for X,y in train_iter:\n",
    "#     print(X,y)\n",
    "#     break"
   ]
  },
  {
   "cell_type": "code",
   "execution_count": 11,
   "metadata": {},
   "outputs": [],
   "source": [
    "# X.shape"
   ]
  },
  {
   "cell_type": "markdown",
   "metadata": {},
   "source": [
    "### 图像分类的实现\n",
    "1. 定义load_data函数，加载数据集。返回训练集和验证集的数据迭代，resize参数，调节图像参数\n",
    "2. 对模型进行初始化，对W和b进行初始化复制，调用torch.normal()和torch.zeros()\n",
    "3. 设置模型框架\n",
    "4. 制定loss函数\n",
    "5. 设置优化函数adam, SGD\n",
    "6. 评估函数"
   ]
  },
  {
   "cell_type": "code",
   "execution_count": 144,
   "metadata": {},
   "outputs": [],
   "source": [
    "def load_data(batch_size,resize=None):\n",
    "    '''下载数据集，将其加载到内存中'''\n",
    "    trans = [transforms.ToTensor()]\n",
    "    if resize:                       #是否对原始数据进行大小变换处理\n",
    "        trans.insert(0,transforms.Resize(resize))\n",
    "    trans = transforms.Compose(trans)\n",
    "    \n",
    "    mnist_train = torchvision.datasets.FashionMNIST(\n",
    "    root=\"../data\", train=True, transform=trans, download=True)    #读取和加在数据集，使用torchvision中内置的数据\n",
    "    mnist_test = torchvision.datasets.FashionMNIST(\n",
    "    root=\"../data\", train=False, transform=trans, download=True)\n",
    "    return (data.DataLoader(mnist_train,batch_size,shuffle=True,num_workers=4),data.DataLoader(mnist_test,batch_size,shuffle=True,num_workers=4))"
   ]
  },
  {
   "cell_type": "code",
   "execution_count": 145,
   "metadata": {},
   "outputs": [
    {
     "name": "stdout",
     "output_type": "stream",
     "text": [
      "torch.Size([10, 1, 28, 28])\n"
     ]
    }
   ],
   "source": [
    "train_iter, test_iter = load_data(10,resize=None)\n",
    "for X,y in train_iter:\n",
    "    print(X.shape)\n",
    "    break"
   ]
  },
  {
   "cell_type": "code",
   "execution_count": 146,
   "metadata": {},
   "outputs": [
    {
     "name": "stdout",
     "output_type": "stream",
     "text": [
      "['sandal', 'trouser', 'trouser', 'trouser', 'dress', 'dress', 'sneaker', 'ankle boot', 'sneaker', 'trouser']\n"
     ]
    }
   ],
   "source": [
    "print(get_labels(y))"
   ]
  },
  {
   "cell_type": "code",
   "execution_count": 147,
   "metadata": {},
   "outputs": [],
   "source": [
    "#可视化训练样本\n",
    "def show_image(imgs,num_rows,num_cols, titles=None, scale=1.5):\n",
    "    #绘制列表\n",
    "    figsize=(num_cols*scale,num_rows*scale)\n",
    "    fig,axes = plt.subplots(num_rows,num_cols,figsize=figsize)   #subplot用来创建总画布\n",
    "    axes=axes.flatten()\n",
    "    for i,(ax,img) in enumerate(zip(axes,imgs)):\n",
    "        if torch.is_tensor(img):\n",
    "            ax.imshow(img.numpy())\n",
    "        else:\n",
    "            ax.imshow(img)\n",
    "#     ax.axes.get_xaxis().set_visible(False)\n",
    "#     ax.axes.get_yaxis().set_visible(False)\n",
    "        if titles:\n",
    "            ax.set_title(titles[i])\n",
    "    return axes"
   ]
  },
  {
   "cell_type": "code",
   "execution_count": 149,
   "metadata": {},
   "outputs": [
    {
     "data": {
      "text/plain": [
       "array([<AxesSubplot:title={'center':'sandal'}>,\n",
       "       <AxesSubplot:title={'center':'trouser'}>,\n",
       "       <AxesSubplot:title={'center':'trouser'}>,\n",
       "       <AxesSubplot:title={'center':'trouser'}>,\n",
       "       <AxesSubplot:title={'center':'dress'}>,\n",
       "       <AxesSubplot:title={'center':'dress'}>,\n",
       "       <AxesSubplot:title={'center':'sneaker'}>,\n",
       "       <AxesSubplot:title={'center':'ankle boot'}>,\n",
       "       <AxesSubplot:title={'center':'sneaker'}>,\n",
       "       <AxesSubplot:title={'center':'trouser'}>], dtype=object)"
      ]
     },
     "execution_count": 149,
     "metadata": {},
     "output_type": "execute_result"
    },
    {
     "data": {
      "image/png": "[encoded data removed]",
      "text/plain": [
       "<Figure size 540x216 with 10 Axes>"
      ]
     },
     "metadata": {
      "needs_background": "light"
     },
     "output_type": "display_data"
    }
   ],
   "source": [
    "show_image(X.reshape(-1,28,28),2,5,titles=get_labels(y))"
   ]
  },
  {
   "cell_type": "code",
   "execution_count": 53,
   "metadata": {},
   "outputs": [],
   "source": [
    "# # 可视化样本\n",
    "# plt.imshow(X[0].reshape(28,28).numpy())"
   ]
  },
  {
   "cell_type": "markdown",
   "metadata": {},
   "source": [
    "### 模型的初始化\n",
    "在本例子中，我们将特征展开28*28展开成728，并有10个分类，因此其网络权重为[784,10]的矩阵，偏置为[1,10]的行向量，正态分布初始化权重，偏置为0"
   ]
  },
  {
   "cell_type": "code",
   "execution_count": 150,
   "metadata": {},
   "outputs": [],
   "source": [
    "num_input=784\n",
    "num_output=10\n",
    "\n",
    "W=torch.normal(0,0.01,size=(num_input,num_output),requires_grad=True)\n",
    "b=torch.zeros(num_output,requires_grad=True)"
   ]
  },
  {
   "cell_type": "markdown",
   "metadata": {},
   "source": [
    "### softmax操作简单实现\n",
    "不考虑溢出的问题"
   ]
  },
  {
   "cell_type": "code",
   "execution_count": 151,
   "metadata": {},
   "outputs": [],
   "source": [
    "def softmax(X):\n",
    "    X_exp = torch.exp(X)\n",
    "    par = X_exp.sum(axis=1,keepdim=True)\n",
    "    return X_exp/par"
   ]
  },
  {
   "cell_type": "code",
   "execution_count": 152,
   "metadata": {},
   "outputs": [
    {
     "data": {
      "text/plain": [
       "torch.Size([10, 1, 28, 28])"
      ]
     },
     "execution_count": 152,
     "metadata": {},
     "output_type": "execute_result"
    }
   ],
   "source": [
    "X.shape"
   ]
  },
  {
   "cell_type": "code",
   "execution_count": 153,
   "metadata": {},
   "outputs": [
    {
     "data": {
      "text/plain": [
       "tensor([[0., 0., 0.,  ..., 0., 0., 0.],\n",
       "        [0., 0., 0.,  ..., 0., 0., 0.],\n",
       "        [0., 0., 0.,  ..., 0., 0., 0.],\n",
       "        ...,\n",
       "        [0., 0., 0.,  ..., 0., 0., 0.],\n",
       "        [0., 0., 0.,  ..., 0., 0., 0.],\n",
       "        [0., 0., 0.,  ..., 0., 0., 0.]])"
      ]
     },
     "execution_count": 153,
     "metadata": {},
     "output_type": "execute_result"
    }
   ],
   "source": [
    "X.reshape((-1,W.shape[0]))"
   ]
  },
  {
   "cell_type": "markdown",
   "metadata": {},
   "source": [
    "### 定义模型"
   ]
  },
  {
   "cell_type": "code",
   "execution_count": 154,
   "metadata": {},
   "outputs": [],
   "source": [
    "def net(x):\n",
    "    return softmax(torch.matmul(X.reshape(-1,W.shape[0]),W)+b)"
   ]
  },
  {
   "cell_type": "markdown",
   "metadata": {},
   "source": [
    "### 定义损失函数\n",
    "使用交叉熵来计算损失函数，创建一个y_hat的预测值"
   ]
  },
  {
   "cell_type": "code",
   "execution_count": 156,
   "metadata": {},
   "outputs": [],
   "source": [
    "y_hat = net(X)"
   ]
  },
  {
   "cell_type": "code",
   "execution_count": 157,
   "metadata": {},
   "outputs": [
    {
     "data": {
      "text/plain": [
       "tensor([0.0974, 0.1024, 0.0987, 0.0911, 0.0838, 0.0820, 0.0975, 0.0837, 0.1114,\n",
       "        0.0956], grad_fn=<IndexBackward>)"
      ]
     },
     "execution_count": 157,
     "metadata": {},
     "output_type": "execute_result"
    }
   ],
   "source": [
    "y_hat[range(len(y_hat)),y]"
   ]
  },
  {
   "cell_type": "code",
   "execution_count": 158,
   "metadata": {},
   "outputs": [
    {
     "data": {
      "text/plain": [
       "tensor([5, 1, 1, 1, 3, 3, 7, 9, 7, 1])"
      ]
     },
     "execution_count": 158,
     "metadata": {},
     "output_type": "execute_result"
    }
   ],
   "source": [
    "y"
   ]
  },
  {
   "cell_type": "code",
   "execution_count": 159,
   "metadata": {},
   "outputs": [
    {
     "data": {
      "text/plain": [
       "tensor([2.3289, 2.2793, 2.3155, 2.3954, 2.4790, 2.5012, 2.3279, 2.4802, 2.1950,\n",
       "        2.3473], grad_fn=<NegBackward>)"
      ]
     },
     "execution_count": 159,
     "metadata": {},
     "output_type": "execute_result"
    }
   ],
   "source": [
    "#计算的是logP(y|x)\n",
    "def cross_entropy(y_hat,y):\n",
    "    return -torch.log(y_hat[range(len(y_hat)),y])\n",
    "     \n",
    "cross_entropy(y_hat,y)"
   ]
  },
  {
   "cell_type": "markdown",
   "metadata": {},
   "source": [
    "### 精度计算\n",
    "使用accuracy进行精确度的计算"
   ]
  },
  {
   "cell_type": "code",
   "execution_count": 71,
   "metadata": {
    "scrolled": true
   },
   "outputs": [
    {
     "data": {
      "text/plain": [
       "tensor(0)"
      ]
     },
     "execution_count": 71,
     "metadata": {},
     "output_type": "execute_result"
    }
   ],
   "source": [
    "# y_hat.shape\n",
    "# y_index = y_hat.argmax(axis=1)\n",
    "# (y_index==y).sum()/len(y)"
   ]
  },
  {
   "cell_type": "code",
   "execution_count": 164,
   "metadata": {},
   "outputs": [],
   "source": [
    "def accuracy(y_hat,y):\n",
    "    '''计算预测的数量'''\n",
    "    if len(y_hat.shape)>1 and y_hat.shape[1]>1:\n",
    "        y_hat = y_hat.argmax(axis=1)\n",
    "    cmp= (y_hat.type(y.dtype)==y)\n",
    "    return float(cmp.sum())\n",
    "#     return float((y_hat==y).sum())/len(y)"
   ]
  },
  {
   "cell_type": "code",
   "execution_count": 165,
   "metadata": {},
   "outputs": [
    {
     "data": {
      "text/plain": [
       "0.0"
      ]
     },
     "execution_count": 165,
     "metadata": {},
     "output_type": "execute_result"
    }
   ],
   "source": [
    "a = accuracy(y_hat,y)\n",
    "a"
   ]
  },
  {
   "cell_type": "code",
   "execution_count": 166,
   "metadata": {},
   "outputs": [
    {
     "data": {
      "text/plain": [
       "10"
      ]
     },
     "execution_count": 166,
     "metadata": {},
     "output_type": "execute_result"
    }
   ],
   "source": [
    "y.numel()"
   ]
  },
  {
   "cell_type": "code",
   "execution_count": 175,
   "metadata": {},
   "outputs": [],
   "source": [
    "def evaluate_accuracy(net,data_iter):\n",
    "    if isinstance(net,torch.nn.Module):\n",
    "        net.eval()   #将net设置为评估模型。不改变参数的值\n",
    "    metric = Accumulator(2)\n",
    "#     metric=[0.0]*2\n",
    "    with torch.no_grad():\n",
    "        for X,y in data_iter:\n",
    "#             acc = accuracy(net(X),y)\n",
    "            metric.add(accuracy(net(X),y),y.numel())\n",
    "#             metric[0]+=acc\n",
    "#             metric[1]+=len(y)\n",
    "#             print('acc',acc)\n",
    "#             print('y',y.numel())\n",
    "\n",
    "    return metric[0]/metric[1]"
   ]
  },
  {
   "cell_type": "code",
   "execution_count": 176,
   "metadata": {},
   "outputs": [],
   "source": [
    "#用于设置存储正确的数量和预测总数的量\n",
    "class Accumulator: #@save\n",
    "    \"\"\"在n个变量上累加\"\"\"\n",
    "    def __init__(self, n):\n",
    "        self.data = [0.0] * n\n",
    "    def add(self, *args):\n",
    "        self.data = [a + float(b) for a, b in zip(self.data, args)]\n",
    "    def reset(self):\n",
    "        self.data = [0.0] * len(self.data)\n",
    "    def __getitem__(self, idx):\n",
    "        return self.data[idx]"
   ]
  },
  {
   "cell_type": "code",
   "execution_count": 177,
   "metadata": {
    "scrolled": true
   },
   "outputs": [
    {
     "data": {
      "text/plain": [
       "0.0999"
      ]
     },
     "execution_count": 177,
     "metadata": {},
     "output_type": "execute_result"
    }
   ],
   "source": [
    "#The size of tensor a (32) must match the size of tensor b (16) at non-singleton dimension 0  \n",
    "#这个错误上卡了很久，主要这个程序设计batch_size要可以被整出，将batch size改称可以被 数据量整除即可\n",
    "\n",
    "evaluate_accuracy(net,test_iter)"
   ]
  },
  {
   "cell_type": "markdown",
   "metadata": {},
   "source": [
    "### 训练\n",
    "softmax回归训练过程代码，定义一个函数训练一个迭代周期，updater是更新模型参数，接受批量大小作为参数"
   ]
  },
  {
   "cell_type": "code",
   "execution_count": 206,
   "metadata": {},
   "outputs": [],
   "source": [
    "# def train(net,train_iter,loss,optimizer):\n",
    "#     if isinstance(net,torch.nn.Module):\n",
    "#         net.train()\n",
    "#     metric = Accumulator(3)\n",
    "     \n",
    "#     for X,y in train_iter:\n",
    "#         y_hat=net(X)\n",
    "#         l = loss(y_hat,y).sum()\n",
    "        \n",
    "# #         if isinstance(optimizer,torch.optim.Optimizer):\n",
    "#         optimizer.zero_grad()\n",
    "#         l.backward()\n",
    "#         optimizer.step()\n",
    "# #         else:\n",
    "# #             l.sum().backward()\n",
    "# #             optimizer(X.shape[0])\n",
    "        \n",
    "#         metric.add(float(l.sum()),accuracy(y_hat,y),y.numel())\n",
    " \n",
    "#     return metric[0]/metric[2],metric[1]/metric[2]\n",
    "     "
   ]
  },
  {
   "cell_type": "code",
   "execution_count": 207,
   "metadata": {},
   "outputs": [],
   "source": [
    "# # 循环训练多次\n",
    "# def train_epoch(net,train_iter,test_iter,loss,optimizer,num_epoches):\n",
    "#     for epoch in range(num_epoches):\n",
    "#         train_loss,train_acc = train(net,train_iter,loss,optimizer)\n",
    "#         test_acc = evaluate_accuracy(net,test_iter)\n",
    "# #     train_loss,train_acc = train_metrics\n",
    "#         print('train_loss',train_loss)\n",
    "#         print('train_acc',train_acc)\n",
    "#         print('------------------')\n",
    "#     assert train_loss < 0.5, train_loss\n",
    "#     assert train_acc <= 1 and train_acc > 0.7, train_acc\n",
    "#     assert test_acc <= 1 and test_acc > 0.7, test_acc"
   ]
  },
  {
   "cell_type": "code",
   "execution_count": 1,
   "metadata": {},
   "outputs": [],
   "source": [
    "num_epochs = 5\n",
    "lr=0.1\n",
    "def train_ch3(net,train_iter,test_iter,loss,optimizer,num_epoches,batch_size):\n",
    "    for epoch in range(num_epochs):\n",
    "        train_l_sum,train_acc_sum,n=0.0,0.0,0\n",
    "        for X,y in train_iter:\n",
    "            y_hat=net(X)\n",
    "            l=loss(y_hat,y).sum()\n",
    "            \n",
    "            if optimizer is not None:\n",
    "                optimizer.zero_grad()\n",
    "            elif params is not None and paras[0].grad is not None:\n",
    "                for param.grad.data.zero_()\n",
    "                \n",
    "            l = backward()\n",
    "            \n",
    "            if optimizer is None:\n",
    "                torch.optim.SGD([W,b],lr=0.1)\n",
    "            else:\n",
    "                optimizer.step()\n",
    "                \n",
    "            train_l_sum+= l.item()\n",
    "            train_acc_sum+= (y_hat.argmax(axis=1) == y).sum().item()\n",
    "            n += y.shape[0]\n",
    "        test_acc =  evaluate_accuracy(net,test_iter):\n",
    "                \n",
    "            \n"
   ]
  },
  {
   "cell_type": "code",
   "execution_count": null,
   "metadata": {},
   "outputs": [],
   "source": []
  },
  {
   "cell_type": "markdown",
   "metadata": {},
   "source": [
    "### 优化器"
   ]
  },
  {
   "cell_type": "code",
   "execution_count": 2,
   "metadata": {},
   "outputs": [],
   "source": [
    "# lr=0.01\n",
    "def optimizer(net):\n",
    "    return torch.optim.SGD([W,b],lr=0.1)"
   ]
  },
  {
   "cell_type": "code",
   "execution_count": 212,
   "metadata": {},
   "outputs": [],
   "source": [
    "optimizer= optimizer(net)"
   ]
  },
  {
   "cell_type": "code",
   "execution_count": 213,
   "metadata": {},
   "outputs": [
    {
     "name": "stdout",
     "output_type": "stream",
     "text": [
      "train_loss 2.7929236671129862\n",
      "train_acc 0.1005\n",
      "------------------\n",
      "train_loss 2.7966126715660096\n",
      "train_acc 0.10038333333333334\n",
      "------------------\n",
      "train_loss 2.792675044441223\n",
      "train_acc 0.10221666666666666\n",
      "------------------\n",
      "train_loss 2.7998391566435497\n",
      "train_acc 0.10053333333333334\n",
      "------------------\n",
      "train_loss 2.8014619698524474\n",
      "train_acc 0.10071666666666666\n",
      "------------------\n",
      "train_loss 2.7969925147374473\n",
      "train_acc 0.09976666666666667\n",
      "------------------\n",
      "train_loss 2.807943312740326\n",
      "train_acc 0.0981\n",
      "------------------\n",
      "train_loss 2.798351606718699\n",
      "train_acc 0.0998\n",
      "------------------\n",
      "train_loss 2.7957651003996533\n",
      "train_acc 0.09955\n",
      "------------------\n",
      "train_loss 2.8004702985127765\n",
      "train_acc 0.09953333333333333\n",
      "------------------\n"
     ]
    },
    {
     "ename": "AssertionError",
     "evalue": "2.8004702985127765",
     "output_type": "error",
     "traceback": [
      "\u001b[1;31m---------------------------------------------------------------------------\u001b[0m",
      "\u001b[1;31mAssertionError\u001b[0m                            Traceback (most recent call last)",
      "\u001b[1;32m<ipython-input-213-6ce089b228dc>\u001b[0m in \u001b[0;36m<module>\u001b[1;34m\u001b[0m\n\u001b[0;32m      1\u001b[0m \u001b[0mnum_epochs\u001b[0m \u001b[1;33m=\u001b[0m \u001b[1;36m10\u001b[0m\u001b[1;33m\u001b[0m\u001b[1;33m\u001b[0m\u001b[0m\n\u001b[1;32m----> 2\u001b[1;33m \u001b[0mtrain_epoch\u001b[0m\u001b[1;33m(\u001b[0m\u001b[0mnet\u001b[0m\u001b[1;33m,\u001b[0m \u001b[0mtrain_iter\u001b[0m\u001b[1;33m,\u001b[0m \u001b[0mtest_iter\u001b[0m\u001b[1;33m,\u001b[0m \u001b[0mcross_entropy\u001b[0m\u001b[1;33m,\u001b[0m \u001b[0moptimizer\u001b[0m\u001b[1;33m,\u001b[0m \u001b[0mnum_epochs\u001b[0m\u001b[1;33m)\u001b[0m\u001b[1;33m\u001b[0m\u001b[1;33m\u001b[0m\u001b[0m\n\u001b[0m",
      "\u001b[1;32m<ipython-input-207-29b244b21ebd>\u001b[0m in \u001b[0;36mtrain_epoch\u001b[1;34m(net, train_iter, test_iter, loss, optimizer, num_epoches)\u001b[0m\n\u001b[0;32m      8\u001b[0m         \u001b[0mprint\u001b[0m\u001b[1;33m(\u001b[0m\u001b[1;34m'train_acc'\u001b[0m\u001b[1;33m,\u001b[0m\u001b[0mtrain_acc\u001b[0m\u001b[1;33m)\u001b[0m\u001b[1;33m\u001b[0m\u001b[1;33m\u001b[0m\u001b[0m\n\u001b[0;32m      9\u001b[0m         \u001b[0mprint\u001b[0m\u001b[1;33m(\u001b[0m\u001b[1;34m'------------------'\u001b[0m\u001b[1;33m)\u001b[0m\u001b[1;33m\u001b[0m\u001b[1;33m\u001b[0m\u001b[0m\n\u001b[1;32m---> 10\u001b[1;33m     \u001b[1;32massert\u001b[0m \u001b[0mtrain_loss\u001b[0m \u001b[1;33m<\u001b[0m \u001b[1;36m0.5\u001b[0m\u001b[1;33m,\u001b[0m \u001b[0mtrain_loss\u001b[0m\u001b[1;33m\u001b[0m\u001b[1;33m\u001b[0m\u001b[0m\n\u001b[0m\u001b[0;32m     11\u001b[0m     \u001b[1;32massert\u001b[0m \u001b[0mtrain_acc\u001b[0m \u001b[1;33m<=\u001b[0m \u001b[1;36m1\u001b[0m \u001b[1;32mand\u001b[0m \u001b[0mtrain_acc\u001b[0m \u001b[1;33m>\u001b[0m \u001b[1;36m0.7\u001b[0m\u001b[1;33m,\u001b[0m \u001b[0mtrain_acc\u001b[0m\u001b[1;33m\u001b[0m\u001b[1;33m\u001b[0m\u001b[0m\n\u001b[0;32m     12\u001b[0m     \u001b[1;32massert\u001b[0m \u001b[0mtest_acc\u001b[0m \u001b[1;33m<=\u001b[0m \u001b[1;36m1\u001b[0m \u001b[1;32mand\u001b[0m \u001b[0mtest_acc\u001b[0m \u001b[1;33m>\u001b[0m \u001b[1;36m0.7\u001b[0m\u001b[1;33m,\u001b[0m \u001b[0mtest_acc\u001b[0m\u001b[1;33m\u001b[0m\u001b[1;33m\u001b[0m\u001b[0m\n",
      "\u001b[1;31mAssertionError\u001b[0m: 2.8004702985127765"
     ]
    }
   ],
   "source": [
    "num_epochs = 10\n",
    "train_epoch(net, train_iter, test_iter, cross_entropy, optimizer, num_epochs)"
   ]
  },
  {
   "cell_type": "markdown",
   "metadata": {},
   "source": [
    "### 预测"
   ]
  },
  {
   "cell_type": "code",
   "execution_count": 205,
   "metadata": {},
   "outputs": [],
   "source": [
    "def predict(net,test_iter,n=6):\n",
    "    for X,y in test_iter:\n",
    "        break\n",
    "    pre = get_labels(net(X).argmax(axis=1))\n",
    "    trues = get_labels(y)\n",
    "    titles = [true+'\\n'+ pre for true, pre in zip(trues,pre)]\n",
    "    show_image(X[0:n].shape(n,28,28),1,n,titles=titles[0:n])"
   ]
  },
  {
   "cell_type": "code",
   "execution_count": null,
   "metadata": {},
   "outputs": [],
   "source": [
    "predict(net,test_iter)"
   ]
  },
  {
   "cell_type": "code",
   "execution_count": null,
   "metadata": {},
   "outputs": [],
   "source": []
  },
  {
   "cell_type": "markdown",
   "metadata": {},
   "source": [
    "### 初始化模型参数"
   ]
  },
  {
   "cell_type": "code",
   "execution_count": 181,
   "metadata": {},
   "outputs": [
    {
     "ename": "NameError",
     "evalue": "name 'nn' is not defined",
     "output_type": "error",
     "traceback": [
      "\u001b[1;31m---------------------------------------------------------------------------\u001b[0m",
      "\u001b[1;31mNameError\u001b[0m                                 Traceback (most recent call last)",
      "\u001b[1;32m<ipython-input-181-0b6085c6f24f>\u001b[0m in \u001b[0;36m<module>\u001b[1;34m\u001b[0m\n\u001b[1;32m----> 1\u001b[1;33m \u001b[0mnet\u001b[0m\u001b[1;33m=\u001b[0m\u001b[0mnn\u001b[0m\u001b[1;33m.\u001b[0m\u001b[0mSequential\u001b[0m\u001b[1;33m(\u001b[0m\u001b[0mnn\u001b[0m\u001b[1;33m.\u001b[0m\u001b[0mFlatten\u001b[0m\u001b[1;33m(\u001b[0m\u001b[1;33m)\u001b[0m\u001b[1;33m,\u001b[0m\u001b[0mnn\u001b[0m\u001b[1;33m.\u001b[0m\u001b[0mLinear\u001b[0m\u001b[1;33m(\u001b[0m\u001b[1;36m784\u001b[0m\u001b[1;33m,\u001b[0m\u001b[1;36m10\u001b[0m\u001b[1;33m)\u001b[0m\u001b[1;33m)\u001b[0m\u001b[1;33m\u001b[0m\u001b[1;33m\u001b[0m\u001b[0m\n\u001b[0m\u001b[0;32m      2\u001b[0m \u001b[1;33m\u001b[0m\u001b[0m\n\u001b[0;32m      3\u001b[0m \u001b[1;32mdef\u001b[0m \u001b[0minit_weights\u001b[0m\u001b[1;33m(\u001b[0m\u001b[0mm\u001b[0m\u001b[1;33m)\u001b[0m\u001b[1;33m:\u001b[0m\u001b[1;33m\u001b[0m\u001b[1;33m\u001b[0m\u001b[0m\n\u001b[0;32m      4\u001b[0m     \u001b[1;32mif\u001b[0m \u001b[0mtype\u001b[0m\u001b[1;33m(\u001b[0m\u001b[0mm\u001b[0m\u001b[1;33m)\u001b[0m\u001b[1;33m==\u001b[0m\u001b[0mnn\u001b[0m\u001b[1;33m.\u001b[0m\u001b[0mLinear\u001b[0m\u001b[1;33m:\u001b[0m\u001b[1;33m\u001b[0m\u001b[1;33m\u001b[0m\u001b[0m\n\u001b[0;32m      5\u001b[0m         \u001b[0mnn\u001b[0m\u001b[1;33m.\u001b[0m\u001b[0minit\u001b[0m\u001b[1;33m.\u001b[0m\u001b[0mnormal_\u001b[0m\u001b[1;33m(\u001b[0m\u001b[0mm\u001b[0m\u001b[1;33m.\u001b[0m\u001b[0mweight\u001b[0m\u001b[1;33m,\u001b[0m\u001b[0mstd\u001b[0m\u001b[1;33m=\u001b[0m\u001b[1;36m0.01\u001b[0m\u001b[1;33m)\u001b[0m\u001b[1;33m\u001b[0m\u001b[1;33m\u001b[0m\u001b[0m\n",
      "\u001b[1;31mNameError\u001b[0m: name 'nn' is not defined"
     ]
    }
   ],
   "source": [
    "net=nn.Sequential(nn.Flatten(),nn.Linear(784,10))\n",
    "\n",
    "def init_weights(m):\n",
    "    if type(m)==nn.Linear:\n",
    "        nn.init.normal_(m.weight,std=0.01)\n",
    "        \n",
    "net.apply(init_weights)"
   ]
  },
  {
   "cell_type": "code",
   "execution_count": null,
   "metadata": {},
   "outputs": [],
   "source": []
  },
  {
   "cell_type": "code",
   "execution_count": null,
   "metadata": {},
   "outputs": [],
   "source": []
  },
  {
   "cell_type": "markdown",
   "metadata": {},
   "source": [
    "### 3.5小结练习\n",
    "我们现在已经准备好使用Fashion-MNIST数据集，便于下面的章节调用来评估各种分类算法。\n",
    "\n",
    "#### 小结\n",
    "\n",
    "* Fashion-MNIST是一个服装分类数据集，由10个类别的图像组成。我们将在后续章节中使用此数据集来评估各种分类算法。\n",
    "* 我们将高度$h$像素，宽度$w$像素图像的形状记为$h \\times w$或（$h$,$w$）。\n",
    "* 数据迭代器是获得更高性能的关键组件。依靠实现良好的数据迭代器，利用高性能计算来避免减慢训练过程。\n",
    "\n",
    "#### 练习\n",
    "\n",
    "1. 减少`batch_size`（如减少到1）是否会影响读取性能？\n",
    "1. 数据迭代器的性能非常重要。当前的实现足够快吗？探索各种选择来改进它。\n",
    "1. 查阅框架的在线API文档。还有哪些其他数据集可用？"
   ]
  },
  {
   "cell_type": "code",
   "execution_count": null,
   "metadata": {},
   "outputs": [],
   "source": []
  }
 ],
 "metadata": {
  "kernelspec": {
   "display_name": "Python 3",
   "language": "python",
   "name": "python3"
  },
  "language_info": {
   "codemirror_mode": {
    "name": "ipython",
    "version": 3
   },
   "file_extension": ".py",
   "mimetype": "text/x-python",
   "name": "python",
   "nbconvert_exporter": "python",
   "pygments_lexer": "ipython3",
   "version": "3.7.3"
  }
 },
 "nbformat": 4,
 "nbformat_minor": 2
}
